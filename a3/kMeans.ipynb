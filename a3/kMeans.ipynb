{
 "cells": [
  {
   "cell_type": "code",
   "execution_count": 98,
   "metadata": {},
   "outputs": [],
   "source": [
    "import math\n",
    "import random\n",
    "import numpy as np\n",
    "import pandas as pd\n",
    "import matplotlib.pyplot as plt"
   ]
  },
  {
   "cell_type": "code",
   "execution_count": 99,
   "metadata": {},
   "outputs": [],
   "source": [
    "def getDist(point1, point2) :\n",
    "    sum = 0\n",
    "    for i in range(828) : \n",
    "        sum += (point1[i] - point2[i])**2\n",
    "    return (math.sqrt(sum))"
   ]
  },
  {
   "cell_type": "code",
   "execution_count": 100,
   "metadata": {},
   "outputs": [],
   "source": [
    "def getImgTrainData() :\n",
    "    train_all = []\n",
    "    for class_type in [\"coast\",\"forest\",\"highway\",\"mountain\",\"opencountry\"] : \n",
    "        X = [np.array([]).reshape(0,23)] * 36\n",
    "        string = f\"features\\{class_type}\" + r\"\\train\"\n",
    "        for image in os.listdir(string) : \n",
    "            file = open(string+f\"\\{image}\",\"r\")\n",
    "            ind = 0\n",
    "            for line in file: \n",
    "                temp_list = line.split(\" \")\n",
    "                temp_array = []\n",
    "                for temp in temp_list:\n",
    "                    temp_array.append(temp.split(\"\\n\")[0])\n",
    "                temp_array = np.array(temp_array, dtype=\"float\")\n",
    "                X[ind] = np.r_[\"0,2\", X[ind], temp_array]\n",
    "                ind += 1\n",
    "        train_all.append(X)  \n",
    "    return train_all"
   ]
  },
  {
   "cell_type": "code",
   "execution_count": 101,
   "metadata": {},
   "outputs": [],
   "source": [
    "def getImgTestData() :\n",
    "    test_all = []\n",
    "    for class_type in [\"coast\",\"forest\",\"highway\",\"mountain\",\"opencountry\"] : \n",
    "        X = []\n",
    "        string = f\"features\\{class_type}\" + r\"\\dev\"\n",
    "        for image in os.listdir(string) : \n",
    "            Y = []\n",
    "            file = open(string+f\"\\{image}\",\"r\")\n",
    "            for line in file: \n",
    "                temp_list = line.split(\" \")\n",
    "                temp_array = []\n",
    "                for temp in temp_list:\n",
    "                    temp_array.append(temp.split(\"\\n\")[0])\n",
    "                temp_array = np.array(temp_array, dtype=\"float\")\n",
    "                Y.append(temp_array)\n",
    "            X.append(Y)\n",
    "        test_all.append(X)  \n",
    "    return test_all"
   ]
  },
  {
   "cell_type": "code",
   "execution_count": 102,
   "metadata": {},
   "outputs": [],
   "source": [
    "def getSynTrainData() :\n",
    "    data = np.genfromtxt(r\"synthetic\\train.txt\", delimiter=\",\")\n",
    "    return data"
   ]
  },
  {
   "cell_type": "code",
   "execution_count": 103,
   "metadata": {},
   "outputs": [],
   "source": [
    "def getSynDevData() :\n",
    "    data = np.genfromtxt(r\"synthetic\\dev.txt\", delimiter=\",\")\n",
    "    return data"
   ]
  },
  {
   "cell_type": "code",
   "execution_count": 123,
   "metadata": {},
   "outputs": [],
   "source": [
    "def KMeansTrain(K, X) :\n",
    "    num_samples = X.shape[0]\n",
    "    num_features = X.shape[1]\n",
    "\n",
    "    centroids = np.array([]).reshape(num_features, 0)\n",
    "    for k in range(K):\n",
    "        centroids = np.c_[centroids, X[random.randint(0, num_samples-1)]]\n",
    "\n",
    "    for i in range(10):\n",
    "        distances = np.array([]).reshape(num_samples, 0)\n",
    "        for k in range(K):\n",
    "            distances = np.c_[distances, np.sum((X - centroids[:,k])**2, axis=1)]\n",
    "\n",
    "        cluster_numbers = np.argmin(distances, axis=1)\n",
    "        \n",
    "        clusters = [np.array([]).reshape(0, num_features)] * K\n",
    "\n",
    "        for n in range(num_samples):\n",
    "            clusters[cluster_numbers[n]] = np.r_[\"0,2\", clusters[cluster_numbers[n]], X[n]]\n",
    "\n",
    "        for k in range(K):\n",
    "            centroids[:,k] = np.nanmean(clusters[k], axis=0)\n",
    "    \n",
    "    return centroids"
   ]
  },
  {
   "cell_type": "code",
   "execution_count": 105,
   "metadata": {},
   "outputs": [],
   "source": [
    "def KMeansTest(X, centroids) : \n",
    "    num_samples = X.shape[0]\n",
    "    K = centroids.shape[1]\n",
    "    distances = np.array([]).reshape(num_samples, 0)\n",
    "    for k in range(K) : \n",
    "        distances = np.c_[distances, np.sum((X - centroids[:,k])**2, axis=1)]\n",
    "    \n",
    "    cluster_numbers = np.argmin(distances, axis=1)\n",
    "    return cluster_numbers "
   ]
  },
  {
   "cell_type": "code",
   "execution_count": 106,
   "metadata": {},
   "outputs": [],
   "source": [
    "def KMeansTestImg(X, centroids) : \n",
    "    K = centroids.shape[1]\n",
    "    distances = np.array([]).reshape(1, 0)\n",
    "    for k in range(K) : \n",
    "        distances = np.c_[distances, np.sum((X - centroids[:,k])**2)]\n",
    "    \n",
    "    cluster_numbers = np.argmin(distances, axis=1)\n",
    "    return cluster_numbers "
   ]
  },
  {
   "cell_type": "code",
   "execution_count": 107,
   "metadata": {},
   "outputs": [],
   "source": [
    "def synData() :\n",
    "    syn_input = getSynTrainData()\n",
    "    syn_data = np.array(syn_input[:,:2], dtype=\"float\")\n",
    "    syn_data1 = np.array(syn_data[:1250,:])\n",
    "    syn_data2 = np.array(syn_data[1250:,:])\n",
    "    syn_class = np.array(syn_input[:,2], dtype=\"int\")\n",
    "\n",
    "    K = 10\n",
    "    syn_centroids1 = KMeansTrain(K, syn_data1)\n",
    "    syn_centroids2 = KMeansTrain(K, syn_data2)\n",
    "    syn_centroids = np.c_[syn_centroids1, syn_centroids2]\n",
    "\n",
    "    syn_test_input = getSynDevData()\n",
    "    syn_test1 = np.array(syn_test_input[:500,:2], dtype=\"float\")\n",
    "    syn_test2 = np.array(syn_test_input[500:,:2], dtype=\"float\")\n",
    "\n",
    "    true = 0\n",
    "    cluster_numbers1 = KMeansTest(syn_test1, syn_centroids)\n",
    "    cluster_numbers2 = KMeansTest(syn_test2, syn_centroids)\n",
    "\n",
    "    for i in range(500) : \n",
    "        if(cluster_numbers1[i] < K) :\n",
    "            true += 1\n",
    "        if(cluster_numbers2[i] >= K) :\n",
    "            true += 1\n",
    "\n",
    "    print(true)"
   ]
  },
  {
   "cell_type": "code",
   "execution_count": 126,
   "metadata": {},
   "outputs": [
    {
     "name": "stderr",
     "output_type": "stream",
     "text": [
      "C:\\Users\\aswin\\AppData\\Local\\Temp/ipykernel_7932/54075892.py:22: RuntimeWarning: Mean of empty slice\n",
      "  centroids[:,k] = np.nanmean(clusters[k], axis=0)\n"
     ]
    },
    {
     "name": "stdout",
     "output_type": "stream",
     "text": [
      "accuracy is 43.39080459770115\n",
      "[56, 57, 8, 23, 7]\n",
      "[73, 66, 52, 75, 82]\n",
      "348\n"
     ]
    }
   ],
   "source": [
    "# def ImgData() :\n",
    "img_input = getImgTrainData()\n",
    "K = 10\n",
    "centroids = [np.array([]).reshape(23,0)] * 36\n",
    "\n",
    "for i in range(5) : \n",
    "    for j in range(36) : \n",
    "        centroids[j] = np.c_[centroids[j], KMeansTrain(K, img_input[i][j])]\n",
    "\n",
    "# print(centroids)\n",
    "\n",
    "# # print(centroids[0])\n",
    "img_test = getImgTestData() \n",
    "true = 0\n",
    "blah = [0] * 5\n",
    "class_blah = [0] * 5\n",
    "total_count = 0\n",
    "for i in range(5) : \n",
    "    for test_image in img_test[i] : \n",
    "        count = [0] * 5\n",
    "        for j in range(36) : \n",
    "            cluster_number = KMeansTestImg(test_image[j], centroids[j])[0]\n",
    "            count[int(cluster_number/K)] += 1\n",
    "        test_class = np.argmax(count)\n",
    "        if(test_class == i) :\n",
    "            true += 1\n",
    "            blah[i] += 1\n",
    "        class_blah[i] += 1\n",
    "        total_count += 1\n",
    "print(f\"accuracy is {100 * true/total_count}\")   \n",
    "print(blah)\n",
    "print(class_blah)\n",
    "print(total_count)"
   ]
  },
  {
   "cell_type": "code",
   "execution_count": 7,
   "metadata": {},
   "outputs": [],
   "source": [
    "# if __name__ == \"__main__\" :\n",
    "    # training_data = getImgTrainData()\n",
    "    # print(getDist(training_data[0][0], training_data[0][1]))"
   ]
  },
  {
   "cell_type": "code",
   "execution_count": null,
   "metadata": {},
   "outputs": [],
   "source": []
  }
 ],
 "metadata": {
  "interpreter": {
   "hash": "4c5226b0404b615919a073ea4add01e0813d3fc18df85f2eda4b7f2085a2def2"
  },
  "kernelspec": {
   "display_name": "Python 3.9.7 64-bit",
   "language": "python",
   "name": "python3"
  },
  "language_info": {
   "codemirror_mode": {
    "name": "ipython",
    "version": 3
   },
   "file_extension": ".py",
   "mimetype": "text/x-python",
   "name": "python",
   "nbconvert_exporter": "python",
   "pygments_lexer": "ipython3",
   "version": "3.9.7"
  },
  "orig_nbformat": 4
 },
 "nbformat": 4,
 "nbformat_minor": 2
}
